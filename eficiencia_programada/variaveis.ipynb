{
 "cells": [
  {
   "cell_type": "code",
   "execution_count": 1,
   "metadata": {},
   "outputs": [
    {
     "name": "stdout",
     "output_type": "stream",
     "text": [
      "LeBron James é <class 'str'>\n"
     ]
    }
   ],
   "source": [
    "nome = input('Digite o nome de uma celebridade: ')\n",
    "print(f'{nome} é {type(nome)}')"
   ]
  },
  {
   "cell_type": "code",
   "execution_count": 3,
   "metadata": {},
   "outputs": [
    {
     "name": "stdout",
     "output_type": "stream",
     "text": [
      "37 é <class 'int'>\n"
     ]
    }
   ],
   "source": [
    "idade = int(input('Digite a idade: '))\n",
    "print(f'{idade} é {type(idade)}')"
   ]
  },
  {
   "cell_type": "code",
   "execution_count": 5,
   "metadata": {},
   "outputs": [
    {
     "name": "stdout",
     "output_type": "stream",
     "text": [
      "2.06 é <class 'float'>\n"
     ]
    }
   ],
   "source": [
    "altura = float(input('Digite a altura: '))\n",
    "print(f'{altura} é {type(altura)}')"
   ]
  },
  {
   "cell_type": "code",
   "execution_count": 9,
   "metadata": {},
   "outputs": [
    {
     "name": "stdout",
     "output_type": "stream",
     "text": [
      "True é <class 'bool'>\n"
     ]
    }
   ],
   "source": [
    "gigante = bool(input('Tem o dobro do meu tamanho? '))\n",
    "print(f'{gigante} é {type(gigante)}')"
   ]
  }
 ],
 "metadata": {
  "interpreter": {
   "hash": "e8d8c79a3e7661eb307919aa032d5b4534952fbf468fb574a46e19678b54e0ff"
  },
  "kernelspec": {
   "display_name": "Python 3.9.7 ('base')",
   "language": "python",
   "name": "python3"
  },
  "language_info": {
   "codemirror_mode": {
    "name": "ipython",
    "version": 3
   },
   "file_extension": ".py",
   "mimetype": "text/x-python",
   "name": "python",
   "nbconvert_exporter": "python",
   "pygments_lexer": "ipython3",
   "version": "3.9.7"
  },
  "orig_nbformat": 4
 },
 "nbformat": 4,
 "nbformat_minor": 2
}
